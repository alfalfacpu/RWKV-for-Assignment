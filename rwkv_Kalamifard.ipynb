{
 "cells": [
  {
   "cell_type": "code",
   "execution_count": 2,
   "id": "1ec92a32",
   "metadata": {},
   "outputs": [],
   "source": [
    "import math, os\n",
    "import numpy as np\n",
    "import logging\n",
    "import torch\n",
    "import torch.nn as nn\n",
    "from torch.nn import functional as F"
   ]
  },
  {
   "cell_type": "code",
   "execution_count": 3,
   "id": "bdae1fe3",
   "metadata": {},
   "outputs": [],
   "source": [
    "class ChannelMix(nn.Module):\n",
    "    def __init__(self, layer_id, n_layer, n_embed):\n",
    "        super().__init__()\n",
    "        self.layer_id = layer_id\n",
    "        \n",
    "        self.time_shift = nn.ZeroPad2d((0, 0, 1, -1))\n",
    "        \n",
    "        with torch.no_grad():\n",
    "            ratio_1_to_almost0 = 1.0 - layer_id/n_layer\n",
    "            x = torch.ones(1,1, n_embed)\n",
    "            for i in range(n_embed):\n",
    "                x[0, 0, i] = i/n_embed\n",
    "            \n",
    "            self.time_mix_k = nn.Parameter(torch.pow(x, ratio_1_to_almost0))\n",
    "            self.time_mix_r = nn.Parameter(torch.pow(x, ratio_1_to_almost0))\n",
    "        \n",
    "        hidden_size = 4*n_embed\n",
    "        self.key = nn.Linear(n_embed, hidden_size, bias=False)\n",
    "        self.receptance = nn.Linear(n_embed, n_embed, bias=False)\n",
    "        \n",
    "        self.value = nn.Linear(hidden_size, n_embed, bias=False)\n",
    "        \n",
    "    def forward(self, x):\n",
    "        xx = self.time_shift(x)\n",
    "        xk = x * self.time_mix_k + (1-self.time_mix_k) * xx\n",
    "\n",
    "        xr = x * self.time_mix_r + (1-self.time_mix_r) * xx\n",
    "        \n",
    "        k = self.key(xk)\n",
    "        k = torch.square(torch.relu(k))\n",
    "        \n",
    "        kv = self.value(k)\n",
    "        \n",
    "        \n",
    "        \n",
    "        rkv = torch.sigmoid(self.receptance(xr)) * kv\n",
    "        \n",
    "        return rkv\n",
    "        "
   ]
  },
  {
   "cell_type": "code",
   "execution_count": 4,
   "id": "2201e937",
   "metadata": {},
   "outputs": [],
   "source": [
    "class TimeMix(nn.Module):\n",
    "    def __init__(self, layer_id, n_layer, n_embed):\n",
    "        super().__init__()\n",
    "        self.layer_id = layer_id\n",
    "        \n",
    "        attn_sz = n_embed\n",
    "        with torch.no_grad():\n",
    "            ratio_1_to_almost0 = 1.0 - layer_id/n_layer\n",
    "            ratio_0_to_1 = layer_id / (n_layer - 1)\n",
    "            \n",
    "            decay_speed = torch.ones(attn_sz)\n",
    "            for h in range(attn_sz):\n",
    "                decay_speed[h] = -5 + 8 * (h / (attn_sz-1)) ** (0.7 + 1.3 * ratio_0_to_1)\n",
    "                \n",
    "            self.time_decay = nn.Parameter(decay_speed)\n",
    "            \n",
    "            zigzag = (torch.tensor([(i+1)%3 - 1 for i in range(attn_sz)]) * 0.5)\n",
    "            self.time_first = nn.Parameter(torch.ones(attn_sz) * math.log(0.3) + zigzag)\n",
    "                \n",
    "            \n",
    "            x = torch.ones(1,1, n_embed)\n",
    "            for i in range(n_embed):\n",
    "                x[0, 0, i] = i/n_embed\n",
    "            \n",
    "            self.time_mix_k = nn.Parameter(torch.pow(x, ratio_1_to_almost0))\n",
    "            self.time_mix_v = nn.Parameter(torch.pow(x, ratio_1_to_almost0) +0.3 * ratio_0_to_1)\n",
    "            self.time_mix_r = nn.Parameter(torch.pow(x, 0.5 * ratio_1_to_almost0))\n",
    "        \n",
    "            self.aa = nn.Parameter(torch.ones(1,1,attn_sz))\n",
    "            self.bb = nn.Parameter(torch.ones(1,1,attn_sz))\n",
    "            pp = torch.ones(1,1,attn_sz)\n",
    "            pp = pp * -1e30\n",
    "            self.pp = nn.Parameter(pp)\n",
    "            self.xx = nn.Parameter(torch.ones(1,1,attn_sz))\n",
    "        \n",
    "        hidden_size = attn_sz\n",
    "        self.key = nn.Linear(n_embed, attn_sz, bias=False)\n",
    "        self.receptance = nn.Linear(n_embed, attn_sz, bias=False)\n",
    "        \n",
    "        self.value = nn.Linear(hidden_size, attn_sz, bias=False)\n",
    "        self.output = nn.Linear(attn_sz, n_embed, bias=False)\n",
    "        \n",
    "    def forward(self, x):\n",
    "        \n",
    "        xx = self.xx\n",
    "\n",
    "       \n",
    "        xk = x * self.time_mix_k + (1-self.time_mix_k) * xx\n",
    "        xv = x * self.time_mix_v + (1-self.time_mix_v) * xx\n",
    "        xr = x * self.time_mix_r + (1-self.time_mix_r) * xx\n",
    "        \n",
    "    \n",
    "    \n",
    "    \n",
    "        \n",
    "        k = self.key(xk)\n",
    "        \n",
    "        \n",
    "        v = self.value(xv)\n",
    "        r= self.receptance(xr)\n",
    "        \n",
    "            \n",
    "        r =torch.sigmoid(r)\n",
    "        \n",
    "        # Calculate the difference in size along the non-singleton dimension\n",
    "        diff = k.shape[1] - self.aa.shape[1]\n",
    "    \n",
    "        \n",
    "        b,t,c = x.shape\n",
    "        aa = torch.nn.functional.pad(self.aa, (0, 0, 0, diff, 0, 0))\n",
    "        bb = torch.nn.functional.pad(self.bb, (0, 0, 0, diff, 0, 0))\n",
    "        pp = torch.nn.functional.pad(self.pp, (0, 0, 0, diff, 0, 0))\n",
    "             \n",
    "            \n",
    "        ww = self.time_first + k\n",
    "    \n",
    "        \n",
    "        qq = torch.maximum(pp, ww )\n",
    "        e1 = torch.exp(pp - qq)\n",
    "        e2 = torch.exp(ww - qq)\n",
    "        \n",
    "        a = e1 * aa + e2 * v\n",
    "        \n",
    "        b = e1 * bb + e2\n",
    "        wkv = a / b\n",
    "        \n",
    "        ww = pp + self.time_decay\n",
    "        qq = torch.maximum(ww, k)\n",
    "        e1 = torch.exp(ww - qq)\n",
    "        e2 = torch.exp(k - qq)\n",
    "        \n",
    "        with torch.no_grad():\n",
    "            xx = nn.Parameter(x)\n",
    "            self.aa = nn.Parameter(e1 * aa + e2 * v)\n",
    "            self.bb = nn.Parameter(e1 * bb + e2)\n",
    "            self.pp = nn.Parameter(qq)\n",
    "            \n",
    "        \n",
    "        return self.output(r * wkv)\n",
    "    \n",
    "        "
   ]
  },
  {
   "cell_type": "code",
   "execution_count": 5,
   "id": "734c6ccc",
   "metadata": {},
   "outputs": [],
   "source": [
    "class Block(nn.Module):\n",
    "    def __init__(self, layer_id, n_layer, n_embd):\n",
    "        super().__init__()\n",
    "        self.layer_id = layer_id\n",
    "\n",
    "        self.ln1 = nn.LayerNorm(n_embd)\n",
    "        self.ln2 = nn.LayerNorm(n_embd)\n",
    "\n",
    "        if self.layer_id == 0:\n",
    "            self.ln0 = nn.LayerNorm(n_embd)\n",
    "\n",
    "        if self.layer_id == 0 :\n",
    "            self.ffnPre = ChannelMix(0, n_layer, n_embd)\n",
    "        else:\n",
    "            self.att = TimeMix(layer_id, n_layer, n_embd)\n",
    "\n",
    "        self.ffn = ChannelMix(layer_id, n_layer, n_embd)\n",
    "\n",
    "    def forward(self, x):\n",
    "        if self.layer_id == 0:\n",
    "            x = self.ln0(x)        \n",
    "        if self.layer_id == 0 :\n",
    "            x = x + self.ffnPre(self.ln1(x))  # better in some cases\n",
    "        else:\n",
    "            x = x + self.att(self.ln1(x))\n",
    "        x = x + self.ffn(self.ln2(x))\n",
    "        return x\n",
    "    \n",
    "    "
   ]
  },
  {
   "cell_type": "code",
   "execution_count": 8,
   "id": "7aa4d340",
   "metadata": {},
   "outputs": [],
   "source": [
    "class RWKV(nn.Module):\n",
    "    def __init__(self, n_layer, vocab_size,  n_embd, ctx_len):\n",
    "        super().__init__()\n",
    "        self.step = 0\n",
    "        self.ctx_len = ctx_len\n",
    "        self.emb = nn.Embedding(vocab_size, n_embd)\n",
    "\n",
    "        self.blocks = nn.Sequential(*[Block(i, n_layer, n_embd)\n",
    "                                    for i in range(n_layer)])\n",
    "\n",
    "        self.ln_out = nn.LayerNorm(n_embd)\n",
    "        self.head = nn.Linear(n_embd, vocab_size, bias=False)\n",
    "    \n",
    "    def forward(self, idx, targets=None):\n",
    "            idx = idx.to(self.emb.weight.device)\n",
    "\n",
    "            self.step += 1\n",
    "            \n",
    "            B, T = idx.size()\n",
    "            assert T <= self.ctx_len, \"Cannot forward, because len(input) > model ctx_len.\"\n",
    "\n",
    "            x = self.emb(idx)\n",
    "            x = self.blocks(x)\n",
    "            x = self.ln_out(x)\n",
    "\n",
    "            x = self.head(x)\n",
    "            \n",
    "\n",
    "            loss = None\n",
    "            if targets is not None:\n",
    "                loss = F.cross_entropy(x.view(-1, x.size(-1)), targets.to(x.device).view(-1))\n",
    "            x = torch.mean(x, dim=0, keepdim=True)\n",
    "            return x, loss\n",
    "        \n",
    "    def generate(self, idx, max_new_tokes):\n",
    "        for _ in range(max_new_tokes):\n",
    "            idx_cond = idx[:, -block_size:]\n",
    "            logits, loss = self(idx_cond)\n",
    "            logits = logits[:, -1, :]\n",
    "            probs = F.softmax(logits, dim = -1)\n",
    "            idx_next = torch.multinomial(probs, num_samples = 1)\n",
    "            idx = torch.cat((idx, idx_next), dim = 1)\n",
    "        return idx"
   ]
  },
  {
   "cell_type": "code",
   "execution_count": null,
   "id": "eca0a587",
   "metadata": {},
   "outputs": [],
   "source": []
  },
  {
   "cell_type": "code",
   "execution_count": 9,
   "id": "a5e18c94",
   "metadata": {},
   "outputs": [],
   "source": [
    "# hyperparameters\n",
    "batch_size = 16 # how many independent sequences will we process in parallel?\n",
    "block_size = 32 # what is the maximum context length for predictions?\n",
    "max_iters = 5000\n",
    "eval_interval = 100\n",
    "learning_rate = 1e-3\n",
    "device = 'cuda' if torch.cuda.is_available() else 'cpu'\n",
    "eval_iters = 200\n",
    "n_embd = 64\n",
    "n_head = 4\n",
    "n_layer = 4\n",
    "dropout = 0.0\n",
    "# ------------"
   ]
  },
  {
   "cell_type": "code",
   "execution_count": 10,
   "id": "0c95d782",
   "metadata": {},
   "outputs": [],
   "source": [
    "with open('input.txt', 'r', encoding='utf-8') as f:\n",
    "    text = f.read()"
   ]
  },
  {
   "cell_type": "code",
   "execution_count": 11,
   "id": "05d2bebb",
   "metadata": {},
   "outputs": [
    {
     "data": {
      "text/plain": [
       "1115394"
      ]
     },
     "execution_count": 11,
     "metadata": {},
     "output_type": "execute_result"
    }
   ],
   "source": [
    "len(text)"
   ]
  },
  {
   "cell_type": "code",
   "execution_count": 12,
   "id": "b464109f",
   "metadata": {},
   "outputs": [
    {
     "name": "stdout",
     "output_type": "stream",
     "text": [
      "First Citizen:\n",
      "Before we proceed any further, hear me speak.\n",
      "\n",
      "All:\n",
      "Speak, speak.\n",
      "\n",
      "First Citizen:\n",
      "You are all resolved rather to die than to famish?\n",
      "\n",
      "All:\n",
      "Resolved. resolved.\n",
      "\n",
      "First Citizen:\n",
      "First, you know Caius Marcius is chief enemy to the people.\n",
      "\n",
      "All:\n",
      "We know't, we know't.\n",
      "\n",
      "First Citizen:\n",
      "Let us kill him, and we'll have corn at our own price.\n",
      "Is't a verdict?\n",
      "\n",
      "All:\n",
      "No more talking on't; let it be done: away, away!\n",
      "\n",
      "Second Citizen:\n",
      "One word, good citizens.\n",
      "\n",
      "First Citizen:\n",
      "We are accounted poor citizens, the patricians good.\n",
      "What authority surfeits on would relieve us: if they\n",
      "would yield us but the superfluity, while it were\n",
      "wholesome, we might guess they relieved us humanely;\n",
      "but they think we are too dear: the leanness that\n",
      "afflicts us, the object of our misery, is as an\n",
      "inventory to particularise their abundance; our\n",
      "sufferance is a gain to them Let us revenge this with\n",
      "our pikes, ere we become rakes: for the gods know I\n",
      "speak this in hunger for bread, not in thirst for revenge.\n",
      "\n",
      "\n"
     ]
    }
   ],
   "source": [
    "print(text[:1000])"
   ]
  },
  {
   "cell_type": "code",
   "execution_count": 13,
   "id": "ff2afa13",
   "metadata": {},
   "outputs": [],
   "source": [
    "chars = sorted(list(set(text)))\n",
    "vocab_size = len(chars)"
   ]
  },
  {
   "cell_type": "code",
   "execution_count": 14,
   "id": "0938e47e",
   "metadata": {},
   "outputs": [
    {
     "name": "stdout",
     "output_type": "stream",
     "text": [
      "\n",
      " !$&',-.3:;?ABCDEFGHIJKLMNOPQRSTUVWXYZabcdefghijklmnopqrstuvwxyz\n"
     ]
    },
    {
     "data": {
      "text/plain": [
       "65"
      ]
     },
     "execution_count": 14,
     "metadata": {},
     "output_type": "execute_result"
    }
   ],
   "source": [
    "print(''.join(chars))\n",
    "vocab_size"
   ]
  },
  {
   "cell_type": "code",
   "execution_count": 15,
   "id": "5e9de93f",
   "metadata": {},
   "outputs": [],
   "source": [
    "stoi = { ch:i for i, ch in enumerate(chars) }\n",
    "itos = {i:ch for i,ch in enumerate(chars)}"
   ]
  },
  {
   "cell_type": "code",
   "execution_count": 16,
   "id": "60bf71e1",
   "metadata": {},
   "outputs": [],
   "source": [
    "itos = {i:ch for i,ch in enumerate(chars)}"
   ]
  },
  {
   "cell_type": "code",
   "execution_count": 17,
   "id": "c56a3f67",
   "metadata": {},
   "outputs": [],
   "source": [
    "encode = lambda s: [stoi[c] for c in s]\n",
    "decode = lambda l: \"\".join([itos[x] for x in l])"
   ]
  },
  {
   "cell_type": "code",
   "execution_count": 18,
   "id": "0b1a344c",
   "metadata": {},
   "outputs": [
    {
     "data": {
      "text/plain": [
       "[46, 47, 1, 58, 46, 43, 56, 43]"
      ]
     },
     "execution_count": 18,
     "metadata": {},
     "output_type": "execute_result"
    }
   ],
   "source": [
    "encode(\"hi there\")"
   ]
  },
  {
   "cell_type": "code",
   "execution_count": 19,
   "id": "c5d70559",
   "metadata": {},
   "outputs": [
    {
     "data": {
      "text/plain": [
       "'hi there'"
      ]
     },
     "execution_count": 19,
     "metadata": {},
     "output_type": "execute_result"
    }
   ],
   "source": [
    "decode([46, 47, 1, 58, 46, 43, 56, 43])"
   ]
  },
  {
   "cell_type": "code",
   "execution_count": 20,
   "id": "2516b483",
   "metadata": {},
   "outputs": [],
   "source": [
    "import torch"
   ]
  },
  {
   "cell_type": "code",
   "execution_count": 21,
   "id": "1d23be1f",
   "metadata": {},
   "outputs": [],
   "source": [
    "data = torch.tensor(encode(text), dtype = torch.long)"
   ]
  },
  {
   "cell_type": "code",
   "execution_count": 22,
   "id": "5f75b39d",
   "metadata": {},
   "outputs": [
    {
     "data": {
      "text/plain": [
       "(torch.Size([1115394]), torch.Tensor)"
      ]
     },
     "execution_count": 22,
     "metadata": {},
     "output_type": "execute_result"
    }
   ],
   "source": [
    "data.shape, type(data)"
   ]
  },
  {
   "cell_type": "code",
   "execution_count": 23,
   "id": "6d091094",
   "metadata": {},
   "outputs": [],
   "source": [
    "n = int(0.9*len(data))\n",
    "train_data = data[:n]\n",
    "val_data = data[n:]"
   ]
  },
  {
   "cell_type": "code",
   "execution_count": 24,
   "id": "26ca3a0a",
   "metadata": {},
   "outputs": [],
   "source": [
    "block_size = 8"
   ]
  },
  {
   "cell_type": "code",
   "execution_count": 25,
   "id": "34787a6b",
   "metadata": {},
   "outputs": [
    {
     "data": {
      "text/plain": [
       "tensor([18, 47, 56, 57, 58,  1, 15, 47, 58])"
      ]
     },
     "execution_count": 25,
     "metadata": {},
     "output_type": "execute_result"
    }
   ],
   "source": [
    "train_data[:block_size+1]"
   ]
  },
  {
   "cell_type": "code",
   "execution_count": 26,
   "id": "45fefb14",
   "metadata": {},
   "outputs": [],
   "source": [
    "x = train_data[:block_size]"
   ]
  },
  {
   "cell_type": "code",
   "execution_count": 27,
   "id": "78c8a77e",
   "metadata": {},
   "outputs": [],
   "source": [
    "y = train_data[1:block_size+1]"
   ]
  },
  {
   "cell_type": "code",
   "execution_count": 28,
   "id": "ca9d4cb9",
   "metadata": {},
   "outputs": [
    {
     "data": {
      "text/plain": [
       "(tensor([18, 47, 56, 57, 58,  1, 15, 47]),\n",
       " tensor([47, 56, 57, 58,  1, 15, 47, 58]))"
      ]
     },
     "execution_count": 28,
     "metadata": {},
     "output_type": "execute_result"
    }
   ],
   "source": [
    "x,y"
   ]
  },
  {
   "cell_type": "code",
   "execution_count": 29,
   "id": "1531c3de",
   "metadata": {},
   "outputs": [
    {
     "name": "stdout",
     "output_type": "stream",
     "text": [
      "ctx  tensor([18]) target tensor(47)\n",
      "ctx  tensor([18, 47]) target tensor(56)\n",
      "ctx  tensor([18, 47, 56]) target tensor(57)\n",
      "ctx  tensor([18, 47, 56, 57]) target tensor(58)\n",
      "ctx  tensor([18, 47, 56, 57, 58]) target tensor(1)\n",
      "ctx  tensor([18, 47, 56, 57, 58,  1]) target tensor(15)\n",
      "ctx  tensor([18, 47, 56, 57, 58,  1, 15]) target tensor(47)\n",
      "ctx  tensor([18, 47, 56, 57, 58,  1, 15, 47]) target tensor(58)\n"
     ]
    }
   ],
   "source": [
    "for t in range(block_size):\n",
    "    context = x[:t+1]\n",
    "    target = y[t]\n",
    "    print(\"ctx \", context, \"target\", target)"
   ]
  },
  {
   "cell_type": "code",
   "execution_count": 30,
   "id": "f10f220f",
   "metadata": {},
   "outputs": [
    {
     "data": {
      "text/plain": [
       "<torch._C.Generator at 0x108178850>"
      ]
     },
     "execution_count": 30,
     "metadata": {},
     "output_type": "execute_result"
    }
   ],
   "source": [
    "torch.manual_seed(1337)"
   ]
  },
  {
   "cell_type": "code",
   "execution_count": 31,
   "id": "a32aefce",
   "metadata": {},
   "outputs": [],
   "source": [
    "batch_size = 4"
   ]
  },
  {
   "cell_type": "code",
   "execution_count": 32,
   "id": "84178d8a",
   "metadata": {},
   "outputs": [],
   "source": [
    "# data loading\n",
    "def get_batch(split):\n",
    "    # generate a small batch of data of inputs x and targets y\n",
    "    data = train_data if split == 'train' else val_data\n",
    "    ix = torch.randint(len(data) - block_size, (batch_size,))\n",
    "    x = torch.stack([data[i:i+block_size] for i in ix])\n",
    "    y = torch.stack([data[i+1:i+block_size+1] for i in ix])\n",
    "    return x, y"
   ]
  },
  {
   "cell_type": "code",
   "execution_count": 33,
   "id": "d6866578",
   "metadata": {},
   "outputs": [],
   "source": [
    "xb, yb = get_batch('train')"
   ]
  },
  {
   "cell_type": "code",
   "execution_count": 34,
   "id": "4d5a0228",
   "metadata": {},
   "outputs": [
    {
     "data": {
      "text/plain": [
       "torch.Size([4, 8])"
      ]
     },
     "execution_count": 34,
     "metadata": {},
     "output_type": "execute_result"
    }
   ],
   "source": [
    "xb.shape"
   ]
  },
  {
   "cell_type": "code",
   "execution_count": 35,
   "id": "451bb3f9",
   "metadata": {},
   "outputs": [
    {
     "data": {
      "text/plain": [
       "torch.Size([4, 8])"
      ]
     },
     "execution_count": 35,
     "metadata": {},
     "output_type": "execute_result"
    }
   ],
   "source": [
    "yb.shape"
   ]
  },
  {
   "cell_type": "code",
   "execution_count": 36,
   "id": "13c1cc29",
   "metadata": {},
   "outputs": [
    {
     "data": {
      "text/plain": [
       "tensor([[24, 43, 58,  5, 57,  1, 46, 43],\n",
       "        [44, 53, 56,  1, 58, 46, 39, 58],\n",
       "        [52, 58,  1, 58, 46, 39, 58,  1],\n",
       "        [25, 17, 27, 10,  0, 21,  1, 54]])"
      ]
     },
     "execution_count": 36,
     "metadata": {},
     "output_type": "execute_result"
    }
   ],
   "source": [
    "xb"
   ]
  },
  {
   "cell_type": "code",
   "execution_count": 37,
   "id": "b7c40762",
   "metadata": {},
   "outputs": [
    {
     "name": "stdout",
     "output_type": "stream",
     "text": [
      "tensor([24]) ----- tensor(43)\n",
      "tensor([24, 43]) ----- tensor(58)\n",
      "tensor([24, 43, 58]) ----- tensor(5)\n",
      "tensor([24, 43, 58,  5]) ----- tensor(57)\n",
      "tensor([24, 43, 58,  5, 57]) ----- tensor(1)\n",
      "tensor([24, 43, 58,  5, 57,  1]) ----- tensor(46)\n",
      "tensor([24, 43, 58,  5, 57,  1, 46]) ----- tensor(43)\n",
      "tensor([24, 43, 58,  5, 57,  1, 46, 43]) ----- tensor(39)\n",
      "tensor([44]) ----- tensor(53)\n",
      "tensor([44, 53]) ----- tensor(56)\n",
      "tensor([44, 53, 56]) ----- tensor(1)\n",
      "tensor([44, 53, 56,  1]) ----- tensor(58)\n",
      "tensor([44, 53, 56,  1, 58]) ----- tensor(46)\n",
      "tensor([44, 53, 56,  1, 58, 46]) ----- tensor(39)\n",
      "tensor([44, 53, 56,  1, 58, 46, 39]) ----- tensor(58)\n",
      "tensor([44, 53, 56,  1, 58, 46, 39, 58]) ----- tensor(1)\n",
      "tensor([52]) ----- tensor(58)\n",
      "tensor([52, 58]) ----- tensor(1)\n",
      "tensor([52, 58,  1]) ----- tensor(58)\n",
      "tensor([52, 58,  1, 58]) ----- tensor(46)\n",
      "tensor([52, 58,  1, 58, 46]) ----- tensor(39)\n",
      "tensor([52, 58,  1, 58, 46, 39]) ----- tensor(58)\n",
      "tensor([52, 58,  1, 58, 46, 39, 58]) ----- tensor(1)\n",
      "tensor([52, 58,  1, 58, 46, 39, 58,  1]) ----- tensor(46)\n",
      "tensor([25]) ----- tensor(17)\n",
      "tensor([25, 17]) ----- tensor(27)\n",
      "tensor([25, 17, 27]) ----- tensor(10)\n",
      "tensor([25, 17, 27, 10]) ----- tensor(0)\n",
      "tensor([25, 17, 27, 10,  0]) ----- tensor(21)\n",
      "tensor([25, 17, 27, 10,  0, 21]) ----- tensor(1)\n",
      "tensor([25, 17, 27, 10,  0, 21,  1]) ----- tensor(54)\n",
      "tensor([25, 17, 27, 10,  0, 21,  1, 54]) ----- tensor(39)\n"
     ]
    }
   ],
   "source": [
    "for b in range(batch_size):\n",
    "    for t in range(block_size):\n",
    "        context = xb[b][:t+1]\n",
    "        target = yb[b][t]\n",
    "        print(context, \"-----\", target)"
   ]
  },
  {
   "cell_type": "code",
   "execution_count": 974,
   "id": "f2a31dc6",
   "metadata": {},
   "outputs": [],
   "source": [
    "model = RWKV( n_layer, vocab_size, n_embd, block_size)\n",
    "optimizer = torch.optim.AdamW(model.parameters(),lr=learning_rate)"
   ]
  },
  {
   "cell_type": "code",
   "execution_count": 975,
   "id": "5d480c55",
   "metadata": {},
   "outputs": [],
   "source": [
    "@torch.no_grad()\n",
    "def estimate_loss():\n",
    "    out = {}\n",
    "    model.eval()\n",
    "    for split in ['train', 'val']:\n",
    "        losses = torch.zeros(eval_iters)\n",
    "        for k in range(eval_iters):\n",
    "            X, Y = get_batch(split)\n",
    "            logits, loss = model(X, Y)\n",
    "            \n",
    "            losses[k] = loss.item()\n",
    "        out[split] = losses.mean()\n",
    "    model.train()\n",
    "    return out"
   ]
  },
  {
   "cell_type": "code",
   "execution_count": 982,
   "id": "04dce38c",
   "metadata": {},
   "outputs": [
    {
     "name": "stdout",
     "output_type": "stream",
     "text": [
      "step 0: train loss 1.5167, val loss 1.6944\n",
      "step 100: train loss 1.5086, val loss 1.7114\n",
      "step 200: train loss 1.5106, val loss 1.7054\n",
      "step 300: train loss 1.5207, val loss 1.6954\n",
      "step 400: train loss 1.5127, val loss 1.7040\n",
      "step 500: train loss 1.5057, val loss 1.7026\n",
      "step 600: train loss 1.5067, val loss 1.7084\n",
      "step 700: train loss 1.5077, val loss 1.6865\n",
      "step 800: train loss 1.5061, val loss 1.7005\n",
      "step 900: train loss 1.5075, val loss 1.6916\n",
      "step 1000: train loss 1.5104, val loss 1.6998\n",
      "step 1100: train loss 1.4992, val loss 1.6832\n",
      "step 1200: train loss 1.4922, val loss 1.6968\n",
      "step 1300: train loss 1.4983, val loss 1.6771\n",
      "step 1400: train loss 1.4985, val loss 1.6779\n",
      "step 1500: train loss 1.4890, val loss 1.6820\n",
      "step 1600: train loss 1.4924, val loss 1.6834\n",
      "step 1700: train loss 1.4882, val loss 1.6829\n",
      "step 1800: train loss 1.4816, val loss 1.6748\n",
      "step 1900: train loss 1.4968, val loss 1.6904\n",
      "step 2000: train loss 1.4859, val loss 1.6827\n",
      "step 2100: train loss 1.4841, val loss 1.7038\n",
      "step 2200: train loss 1.4982, val loss 1.6801\n",
      "step 2300: train loss 1.4877, val loss 1.6785\n",
      "step 2400: train loss 1.4862, val loss 1.6877\n",
      "step 2500: train loss 1.4859, val loss 1.6673\n",
      "step 2600: train loss 1.4859, val loss 1.6816\n",
      "step 2700: train loss 1.4876, val loss 1.6703\n",
      "step 2800: train loss 1.4823, val loss 1.6628\n",
      "step 2900: train loss 1.4828, val loss 1.6640\n",
      "step 3000: train loss 1.4755, val loss 1.6619\n",
      "step 3100: train loss 1.4800, val loss 1.6861\n",
      "step 3200: train loss 1.4900, val loss 1.6689\n",
      "step 3300: train loss 1.4764, val loss 1.6720\n",
      "step 3400: train loss 1.4641, val loss 1.6608\n",
      "step 3500: train loss 1.4737, val loss 1.6788\n",
      "step 3600: train loss 1.4774, val loss 1.6595\n",
      "step 3700: train loss 1.4693, val loss 1.6666\n",
      "step 3800: train loss 1.4642, val loss 1.6736\n",
      "step 3900: train loss 1.4717, val loss 1.6628\n",
      "step 4000: train loss 1.4718, val loss 1.6623\n",
      "step 4100: train loss 1.4676, val loss 1.6573\n",
      "step 4200: train loss 1.4671, val loss 1.6786\n",
      "step 4300: train loss 1.4650, val loss 1.6769\n",
      "step 4400: train loss 1.4666, val loss 1.6633\n",
      "step 4500: train loss 1.4588, val loss 1.6679\n",
      "step 4600: train loss 1.4647, val loss 1.6554\n",
      "step 4700: train loss 1.4644, val loss 1.6660\n",
      "step 4800: train loss 1.4510, val loss 1.6586\n",
      "step 4900: train loss 1.4648, val loss 1.6548\n",
      "step 4999: train loss 1.4614, val loss 1.6691\n"
     ]
    }
   ],
   "source": [
    "\n",
    "for iter in range(max_iters):\n",
    "\n",
    "    # every once in a while evaluate the loss on train and val sets\n",
    "    if iter % 100 == 0 or iter == max_iters - 1:\n",
    "        losses = estimate_loss()\n",
    "        print(f\"step {iter}: train loss {losses['train']:.4f}, val loss {losses['val']:.4f}\")\n",
    "\n",
    "    # sample a batch of data\n",
    "    xb, yb = get_batch('train')\n",
    "\n",
    "    # evaluate the loss\n",
    "    logits, loss = model(xb, yb)\n",
    "    optimizer.zero_grad(set_to_none=True)\n",
    "    loss.backward()\n",
    "    optimizer.step()"
   ]
  },
  {
   "cell_type": "code",
   "execution_count": 983,
   "id": "991e1c90",
   "metadata": {},
   "outputs": [
    {
     "name": "stdout",
     "output_type": "stream",
     "text": [
      "\n",
      "Adather Bolingham.\n",
      "\n",
      "HERMIONE:\n",
      "Your should by enform'd in hither or, e--\n",
      "\n",
      "YORK:\n",
      "I'll prunt.\n",
      "\n",
      "GLOUCESTER:\n",
      "\n",
      "VELSABELLA:\n",
      "Ours proves:\n",
      "Commending bands,\n",
      "And with a well for good know, I besides the day qdoth:\n",
      "Underful fire amputted. By like the know\n",
      "I thank for me as is time in eases now thee there;\n",
      "Nay, mark show Lords:\n",
      "Sir that joyful very look'd, as I go come brother to the delivers to was copted Boilosom, or plebeian to Rome a good?\n",
      "\n",
      "MENENIUS:\n",
      "The house? whengeful doing to thy king,\n",
      "Like of\n",
      "doth a boy! your honourable poor like to your fatal, to see thee\n",
      "Evence\n",
      "Of you\n",
      "Do Screaters o' to is wish of thy drial.\n",
      "\n",
      "TLAND:\n",
      "Nor queen.\n",
      "\n",
      "Second Servingman:\n",
      "So.\n",
      "\n",
      "COMINIUS:\n",
      "They in heart ly scent state they,nd it did I rather know avouch. Plantagenets their ends\n",
      "Should not the\n",
      "duked.\n",
      "\n",
      "VIRGILKA:\n",
      "She's king our is my father's into spiteous\n",
      "Some doubtful gapery nurse,\n",
      "I meic,\n",
      "The each his gallet. But, right for runt of Clifford your kerned a plain time I am, proved to you say fulls,\n",
      "And the hand:\n",
      "Why s\n"
     ]
    }
   ],
   "source": [
    "context = torch.zeros((1, 1), dtype=torch.long, device=device)\n",
    "print(decode(model.generate(context, max_new_tokes=1000)[0].tolist()))\n"
   ]
  },
  {
   "cell_type": "code",
   "execution_count": 38,
   "id": "cd14f2f3",
   "metadata": {},
   "outputs": [],
   "source": [
    "chars = sorted(list(set(text.split(' '))))\n",
    "vocab_size = len(chars)"
   ]
  },
  {
   "cell_type": "code",
   "execution_count": 39,
   "id": "40b794a6",
   "metadata": {},
   "outputs": [
    {
     "data": {
      "text/plain": [
       "'\\nWas'"
      ]
     },
     "execution_count": 39,
     "metadata": {},
     "output_type": "execute_result"
    }
   ],
   "source": [
    "chars[2]"
   ]
  },
  {
   "cell_type": "code",
   "execution_count": 40,
   "id": "4cf33411",
   "metadata": {},
   "outputs": [],
   "source": [
    "stoi = { ch:i for i, ch in enumerate(chars) }\n",
    "itos = {i:ch for i,ch in enumerate(chars)}\n",
    "encode = lambda s: [stoi[c] for c in s]\n",
    "decode = lambda l: \" \".join([itos[x] for x in l])"
   ]
  },
  {
   "cell_type": "code",
   "execution_count": 41,
   "id": "71c0b3cf",
   "metadata": {},
   "outputs": [],
   "source": [
    "data = torch.tensor(encode(text.split(' ')), dtype = torch.long)"
   ]
  },
  {
   "cell_type": "code",
   "execution_count": 42,
   "id": "91b97e58",
   "metadata": {},
   "outputs": [
    {
     "data": {
      "text/plain": [
       "'First Citizen:\\nBefore we proceed any further, hear me speak.\\n\\nAll:\\nSpeak, speak.\\n\\nFirst'"
      ]
     },
     "execution_count": 42,
     "metadata": {},
     "output_type": "execute_result"
    }
   ],
   "source": [
    "decode(encode(text.split(' ')[:10]))"
   ]
  },
  {
   "cell_type": "code",
   "execution_count": 43,
   "id": "d8cb2236",
   "metadata": {},
   "outputs": [
    {
     "data": {
      "text/plain": [
       "['First',\n",
       " 'Citizen:\\nBefore',\n",
       " 'we',\n",
       " 'proceed',\n",
       " 'any',\n",
       " 'further,',\n",
       " 'hear',\n",
       " 'me',\n",
       " 'speak.\\n\\nAll:\\nSpeak,',\n",
       " 'speak.\\n\\nFirst']"
      ]
     },
     "execution_count": 43,
     "metadata": {},
     "output_type": "execute_result"
    }
   ],
   "source": [
    "text.split(' ')[:10]"
   ]
  },
  {
   "cell_type": "code",
   "execution_count": 44,
   "id": "348d44a6",
   "metadata": {},
   "outputs": [],
   "source": [
    "n = int(0.9*len(data))\n",
    "train_data = data[:n]\n",
    "val_data = data[n:]"
   ]
  },
  {
   "cell_type": "code",
   "execution_count": 119,
   "id": "85cf0506",
   "metadata": {},
   "outputs": [],
   "source": [
    "# data loading\n",
    "def get_batch(split):\n",
    "    # generate a small batch of data of inputs x and targets y\n",
    "    data = train_data if split == 'train' else val_data\n",
    "    ix = torch.randint(len(data) - block_size, (batch_size,))\n",
    "    x = torch.stack([data[i:i+block_size] for i in ix])\n",
    "    y = torch.stack([data[i+1:i+block_size+1] for i in ix])\n",
    "    return x, y"
   ]
  },
  {
   "cell_type": "code",
   "execution_count": 125,
   "id": "7c05d020",
   "metadata": {},
   "outputs": [
    {
     "data": {
      "text/plain": [
       "torch.Size([4, 8])"
      ]
     },
     "execution_count": 125,
     "metadata": {},
     "output_type": "execute_result"
    }
   ],
   "source": [
    "get_batch('train')[0].shape"
   ]
  },
  {
   "cell_type": "code",
   "execution_count": 120,
   "id": "e3c6b653",
   "metadata": {},
   "outputs": [
    {
     "data": {
      "text/plain": [
       "(8, 64, 0.001, 4)"
      ]
     },
     "execution_count": 120,
     "metadata": {},
     "output_type": "execute_result"
    }
   ],
   "source": [
    "block_size, n_embd, learning_rate, batch_size\n"
   ]
  },
  {
   "cell_type": "code",
   "execution_count": null,
   "id": "5ce12375",
   "metadata": {},
   "outputs": [],
   "source": [
    "block_size=8"
   ]
  },
  {
   "cell_type": "code",
   "execution_count": 131,
   "id": "521803fc",
   "metadata": {},
   "outputs": [],
   "source": [
    "model = RWKV( 5, vocab_size, 256, block_size)\n",
    "optimizer = torch.optim.AdamW(model.parameters(),lr=3e-4)"
   ]
  },
  {
   "cell_type": "code",
   "execution_count": 132,
   "id": "0f7b3f8a",
   "metadata": {},
   "outputs": [],
   "source": [
    "@torch.no_grad()\n",
    "def estimate_loss():\n",
    "    out = {}\n",
    "    model.eval()\n",
    "    for split in ['train', 'val']:\n",
    "        losses = torch.zeros(eval_iters)\n",
    "        for k in range(eval_iters):\n",
    "            X, Y = get_batch(split)\n",
    "            logits, loss = model(X, Y)\n",
    "            \n",
    "            losses[k] = loss.item()\n",
    "        out[split] = losses.mean()\n",
    "    model.train()\n",
    "    return out"
   ]
  },
  {
   "cell_type": "code",
   "execution_count": 133,
   "id": "79119cbd",
   "metadata": {},
   "outputs": [
    {
     "name": "stdout",
     "output_type": "stream",
     "text": [
      "step 0: train loss 10.8263, val loss 10.8326\n",
      "step 100: train loss 8.4848, val loss 8.4930\n",
      "step 200: train loss 8.3536, val loss 8.4139\n",
      "step 300: train loss 8.3051, val loss 8.4341\n",
      "step 400: train loss 8.2986, val loss 8.3662\n",
      "step 500: train loss 8.2414, val loss 8.2713\n",
      "step 600: train loss 8.1505, val loss 8.2766\n",
      "step 700: train loss 8.1353, val loss 8.2955\n",
      "step 800: train loss 8.0703, val loss 8.1881\n",
      "step 900: train loss 7.9545, val loss 8.2166\n",
      "step 1000: train loss 8.0764, val loss 8.2661\n",
      "step 1100: train loss 8.0368, val loss 8.3165\n",
      "step 1200: train loss 8.0470, val loss 8.2838\n",
      "step 1300: train loss 7.9314, val loss 8.2970\n",
      "step 1400: train loss 7.9337, val loss 8.2967\n",
      "step 1500: train loss 7.8668, val loss 8.2682\n",
      "step 1600: train loss 7.8822, val loss 8.2731\n",
      "step 1700: train loss 7.8482, val loss 8.3902\n",
      "step 1800: train loss 7.8613, val loss 8.2876\n",
      "step 1900: train loss 7.8271, val loss 8.2647\n",
      "step 2000: train loss 7.7569, val loss 8.4001\n",
      "step 2100: train loss 7.7817, val loss 8.2873\n",
      "step 2200: train loss 7.7820, val loss 8.2444\n",
      "step 2300: train loss 7.7309, val loss 8.2335\n",
      "step 2400: train loss 7.7024, val loss 8.2483\n",
      "step 2500: train loss 7.7083, val loss 8.2185\n",
      "step 2600: train loss 7.6102, val loss 8.3012\n",
      "step 2700: train loss 7.6044, val loss 8.3635\n",
      "step 2800: train loss 7.6319, val loss 8.3045\n",
      "step 2900: train loss 7.5392, val loss 8.3188\n",
      "step 3000: train loss 7.5264, val loss 8.3240\n",
      "step 3100: train loss 7.5090, val loss 8.3526\n",
      "step 3200: train loss 7.4198, val loss 8.3689\n",
      "step 3300: train loss 7.5219, val loss 8.3955\n",
      "step 3400: train loss 7.4997, val loss 8.3460\n",
      "step 3500: train loss 7.4867, val loss 8.3960\n",
      "step 3600: train loss 7.4691, val loss 8.3414\n",
      "step 3700: train loss 7.4864, val loss 8.3165\n",
      "step 3800: train loss 7.3327, val loss 8.2972\n",
      "step 3900: train loss 7.3379, val loss 8.4369\n",
      "step 4000: train loss 7.2361, val loss 8.4068\n",
      "step 4100: train loss 7.2511, val loss 8.4775\n",
      "step 4200: train loss 7.2605, val loss 8.3845\n",
      "step 4300: train loss 7.2885, val loss 8.2838\n",
      "step 4400: train loss 7.2522, val loss 8.4272\n",
      "step 4500: train loss 7.2844, val loss 8.3536\n",
      "step 4600: train loss 7.2130, val loss 8.4038\n",
      "step 4700: train loss 7.1206, val loss 8.5188\n",
      "step 4800: train loss 7.1367, val loss 8.4300\n",
      "step 4900: train loss 7.1279, val loss 8.5345\n",
      "step 4999: train loss 7.1856, val loss 8.4430\n"
     ]
    }
   ],
   "source": [
    "optimizer = torch.optim.AdamW(model.parameters(),lr=3e-4)\n",
    "batch_size = 4\n",
    "for iter in range(max_iters):\n",
    "\n",
    "    # every once in a while evaluate the loss on train and val sets\n",
    "    if iter % 100 == 0 or iter == max_iters - 1:\n",
    "        losses = estimate_loss()\n",
    "        print(f\"step {iter}: train loss {losses['train']:.4f}, val loss {losses['val']:.4f}\")\n",
    "\n",
    "    # sample a batch of data\n",
    "    xb, yb = get_batch('train')\n",
    "\n",
    "    # evaluate the loss\n",
    "    logits, loss = model(xb, yb)\n",
    "    optimizer.zero_grad(set_to_none=True)\n",
    "    loss.backward()\n",
    "    optimizer.step()"
   ]
  },
  {
   "cell_type": "code",
   "execution_count": 134,
   "id": "b220827c",
   "metadata": {},
   "outputs": [
    {
     "name": "stdout",
     "output_type": "stream",
     "text": [
      "HENRY all divided? night to that Richmond rough said a\n",
      "pleasure the boy do on,\n",
      "And begging he O seven justice: and yet enter it?\n",
      "\n",
      "PETER:\n",
      "I.\n",
      "\n",
      "PETRUCHIO:\n",
      "'Tis sit for myself,\n",
      "No if both Lewis upon thy oweth me\n",
      "As be enemy How O, and not shall\n",
      "encounter show,\n",
      "And policy that there,\n",
      "Rather reign fame that holes\n",
      "Where come deny you would be executed since do I water and anchor?\n",
      "And war's me from side,\n",
      "To ones.\n",
      "\n",
      "AUTOLYCUS:\n",
      "Why, did,\n",
      "And noble means that factions\n",
      "and and monument!\n",
      "\n",
      "ANGELO:\n",
      "I believe I beasts,\n",
      "That hands;\n",
      "Swear in. ANNE:\n",
      "All their life and death,\n",
      "And stay?\n",
      "\n",
      "CAMILLO:\n",
      "At of my gown? here?\n",
      "\n",
      "QUEEN the eager Margaret made.\n",
      "\n",
      "LADY he are seeth others are presence, of Rome.\n",
      "\n",
      "Second pride\n",
      "To hands a flowers.\n",
      "\n",
      "Servant:\n",
      "Why another.\n",
      "The\n"
     ]
    }
   ],
   "source": [
    "context = torch.tensor([encode(\"HENRY all divided? night\".split(' '))], dtype = torch.long)\n",
    "print(decode(model.generate(context, max_new_tokes=100)[0].tolist()))\n"
   ]
  },
  {
   "cell_type": "code",
   "execution_count": 136,
   "id": "3bc46951",
   "metadata": {},
   "outputs": [
    {
     "name": "stdout",
     "output_type": "stream",
     "text": [
      "George are sir? cozeners thee, thee loves tongues and sit prudence; and said heartless it.\n",
      "\n",
      "MENENIUS:\n",
      "Note they stay.\n",
      "\n",
      "HENRY Meeting as men, done't--\n",
      "Harp the store,\n",
      "One night, purpose no must\n",
      "you? character our window, it fall whose repose dish'd\n",
      "For lark ones.\n",
      "\n",
      "BRUTUS:\n",
      "Come, years a man.\n",
      "\n",
      "ARCHIDAMUS:\n",
      "Would office\n",
      "Becomes me come traitors! thy when\n",
      "for is either.\n",
      "Here judgment-place.\n",
      "Once done her view,\n",
      "And every you cut horse.\n",
      "Now, quiet deformed heart;\n",
      "The as great worth himself, him! hath live.\n",
      "It a dine respects sooner.\n",
      "\n",
      "POLIXENES:\n",
      "Dear all the home.\n",
      "\n",
      "AUFIDIUS:\n",
      "I obsequious of that? blood?\n",
      "\n",
      "Nurse:\n",
      "It sit the\n",
      "duke point.\n",
      "\n",
      "ISABELLA:\n",
      "O, here;\n",
      "Better either death were Lord, not be build for circled peace.\n",
      "O conquer'd; thine herself yet they too; how name, dear lord,\n"
     ]
    }
   ],
   "source": [
    "context = torch.tensor([encode(\"George\".split(' '))], dtype = torch.long)\n",
    "print(decode(model.generate(context, max_new_tokes=100)[0].tolist()))\n"
   ]
  },
  {
   "cell_type": "code",
   "execution_count": null,
   "id": "e6d6889c",
   "metadata": {},
   "outputs": [],
   "source": []
  }
 ],
 "metadata": {
  "kernelspec": {
   "display_name": "cv",
   "language": "python",
   "name": "cv"
  },
  "language_info": {
   "codemirror_mode": {
    "name": "ipython",
    "version": 3
   },
   "file_extension": ".py",
   "mimetype": "text/x-python",
   "name": "python",
   "nbconvert_exporter": "python",
   "pygments_lexer": "ipython3",
   "version": "3.11.0"
  }
 },
 "nbformat": 4,
 "nbformat_minor": 5
}
